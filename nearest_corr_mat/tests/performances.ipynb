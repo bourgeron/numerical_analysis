{
 "cells": [
  {
   "cell_type": "code",
   "execution_count": null,
   "id": "unauthorized-combine",
   "metadata": {},
   "outputs": [],
   "source": [
    "import numpy as np\n",
    "import pandas as pd\n",
    "from functions import *"
   ]
  },
  {
   "cell_type": "code",
   "execution_count": null,
   "id": "ruled-chorus",
   "metadata": {},
   "outputs": [],
   "source": [
    "ERR_MAX = 1e-6\n",
    "ITE_MAX = 1000"
   ]
  },
  {
   "cell_type": "markdown",
   "id": "plain-joseph",
   "metadata": {},
   "source": [
    "# Von Neumann alternative projection"
   ]
  },
  {
   "cell_type": "code",
   "execution_count": null,
   "id": "electric-arrangement",
   "metadata": {},
   "outputs": [],
   "source": [
    "def proj_neumann(mat, err_max=1e-6, ite_max=10_000):\n",
    "    err = err_max + 1\n",
    "    ite = 0\n",
    "    prim_2 = mat.copy()\n",
    "    errors = list()\n",
    "    while err > err_max and ite < ite_max:\n",
    "        prim_1 = proj_cone(prim_2)\n",
    "        prim_2_new = proj_unit_diag(prim_1)\n",
    "        err = norm(prim_1 - prim_2_new)\n",
    "        errors.append(err)\n",
    "        \n",
    "        prim_2 = prim_2_new.copy()\n",
    "        ite += 1\n",
    "    return 0.5 * (prim_1 + prim_2), errors"
   ]
  },
  {
   "cell_type": "code",
   "execution_count": null,
   "id": "under-force",
   "metadata": {},
   "outputs": [],
   "source": [
    "%%time\n",
    "projection, errors = proj_neumann(laplace, ERR_MAX)\n",
    "pd.DataFrame(errors).apply(np.log).plot()"
   ]
  },
  {
   "cell_type": "code",
   "execution_count": null,
   "id": "terminal-judge",
   "metadata": {},
   "outputs": [],
   "source": [
    "%%time\n",
    "mat = gen_sym_psd(100, 10)\n",
    "projection, errors = proj_neumann(mat, ERR_MAX)\n",
    "log_errs = pd.DataFrame(errors).apply(np.log)\n",
    "log_errs.plot()\n",
    "axis = (log_errs.shift() / log_errs).plot()\n",
    "axis.set_ylim(0, 2)"
   ]
  },
  {
   "cell_type": "code",
   "execution_count": null,
   "id": "polar-dylan",
   "metadata": {
    "scrolled": true
   },
   "outputs": [],
   "source": [
    "%%timeit\n",
    "mat = gen_sym_psd(100)\n",
    "projection, errors = proj_neumann(mat, ERR_MAX)"
   ]
  },
  {
   "cell_type": "markdown",
   "id": "becoming-makeup",
   "metadata": {},
   "source": [
    "# Classical Dykstra's projection algorithm does not converge"
   ]
  },
  {
   "cell_type": "code",
   "execution_count": null,
   "id": "expressed-disclaimer",
   "metadata": {},
   "outputs": [],
   "source": [
    "def proj_dykstra(mat, err_max=1e-6, ite_max=10_000):\n",
    "    err = err_max + 1\n",
    "    ite = 0\n",
    "    prim_2 = mat.copy()\n",
    "    dual = np.zeros(mat.shape)\n",
    "    errors = list()\n",
    "    while err > err_max and ite < ite_max:\n",
    "        prim_1 = proj_cone(prim_2 - dual)\n",
    "        prim_2_new = proj_unit_diag(prim_1 + dual)\n",
    "        dual = dual + prim_1 - prim_2_new\n",
    "        err = norm(prim_1 - prim_2_new)\n",
    "        errors.append(err)\n",
    "\n",
    "        prim_2 = prim_2_new.copy()\n",
    "        ite += 1\n",
    "    return 0.5 * (prim_1 + prim_2), errors"
   ]
  },
  {
   "cell_type": "code",
   "execution_count": null,
   "id": "indoor-radar",
   "metadata": {},
   "outputs": [],
   "source": [
    "mat = gen_sym_psd(100, 10)\n",
    "projection, errors = proj_dykstra(mat, ERR_MAX)\n",
    "pd.DataFrame(errors).apply(np.log).plot()"
   ]
  },
  {
   "cell_type": "markdown",
   "id": "collectible-current",
   "metadata": {},
   "source": [
    "# Modified Dykstra's projection algorithm"
   ]
  },
  {
   "cell_type": "code",
   "execution_count": null,
   "id": "greek-sight",
   "metadata": {},
   "outputs": [],
   "source": [
    "%%time\n",
    "projection, errors = nearest_corr(laplace, 'grad', ERR_MAX)\n",
    "pd.DataFrame(errors).apply(np.log).plot()"
   ]
  },
  {
   "cell_type": "code",
   "execution_count": null,
   "id": "better-advertising",
   "metadata": {},
   "outputs": [],
   "source": [
    "%%time\n",
    "mat = gen_sym_psd(100, 11)\n",
    "projection, errors = nearest_corr(mat, 'grad', ERR_MAX)\n",
    "log_errs = pd.DataFrame(errors).apply(np.log)\n",
    "log_errs.plot()\n",
    "axis = (log_errs.shift() / log_errs).plot()\n",
    "axis.set_ylim(0, 2)"
   ]
  },
  {
   "cell_type": "code",
   "execution_count": null,
   "id": "equal-pearl",
   "metadata": {},
   "outputs": [],
   "source": [
    "%%timeit\n",
    "mat = gen_sym_psd(100)\n",
    "projection, errors = nearest_corr(mat, 'grad', ERR_MAX)"
   ]
  },
  {
   "cell_type": "markdown",
   "id": "advised-raleigh",
   "metadata": {},
   "source": [
    "# BFGS for the dual"
   ]
  },
  {
   "cell_type": "code",
   "execution_count": null,
   "id": "better-briefing",
   "metadata": {},
   "outputs": [],
   "source": [
    "%%time\n",
    "projection, errors = nearest_corr(laplace, 'bfgs', ERR_MAX, ITE_MAX)\n",
    "pd.DataFrame(errors).apply(np.log).plot()"
   ]
  },
  {
   "cell_type": "code",
   "execution_count": null,
   "id": "dedicated-horse",
   "metadata": {},
   "outputs": [],
   "source": [
    "%%time\n",
    "mat = gen_sym_psd(100, 12)\n",
    "projection, errors = nearest_corr(mat, 'bfgs', ERR_MAX, ITE_MAX)\n",
    "log_errs = pd.DataFrame(errors).apply(np.log)\n",
    "log_errs.plot()\n",
    "axis = (log_errs.shift() / log_errs).plot()\n",
    "axis.set_ylim(0, 2)"
   ]
  },
  {
   "cell_type": "code",
   "execution_count": null,
   "id": "dietary-tracker",
   "metadata": {},
   "outputs": [],
   "source": [
    "%%timeit\n",
    "mat = gen_sym_psd(100)\n",
    "projection, errors = nearest_corr(mat, 'bfgs', ERR_MAX, ITE_MAX)"
   ]
  },
  {
   "cell_type": "markdown",
   "id": "greater-census",
   "metadata": {},
   "source": [
    "# L-BFGS for the dual"
   ]
  },
  {
   "cell_type": "code",
   "execution_count": null,
   "id": "chronic-curtis",
   "metadata": {},
   "outputs": [],
   "source": [
    "%%time\n",
    "projection, errors = nearest_corr(\n",
    "    laplace, 'l_bfgs', ERR_MAX, ITE_MAX, memory=10)\n",
    "pd.DataFrame(errors).apply(np.log).plot()"
   ]
  },
  {
   "cell_type": "code",
   "execution_count": null,
   "id": "lined-gross",
   "metadata": {
    "scrolled": false
   },
   "outputs": [],
   "source": [
    "%%time\n",
    "mat = gen_sym_psd(100, 13)\n",
    "projection, errors = nearest_corr(\n",
    "    mat, 'l_bfgs', ERR_MAX, ITE_MAX, memory=10)\n",
    "log_errs = pd.DataFrame(errors).apply(np.log)\n",
    "log_errs.plot()\n",
    "axis = (log_errs.shift() / log_errs).plot()\n",
    "axis.set_ylim(0, 2)"
   ]
  },
  {
   "cell_type": "code",
   "execution_count": null,
   "id": "medieval-orbit",
   "metadata": {},
   "outputs": [],
   "source": [
    "%%timeit\n",
    "mat = gen_sym_psd(100)\n",
    "projection, errors = nearest_corr(\n",
    "    mat, 'l_bfgs', ERR_MAX, ITE_MAX, memory=10)"
   ]
  },
  {
   "cell_type": "markdown",
   "id": "global-longitude",
   "metadata": {},
   "source": [
    "# Newton for the dual"
   ]
  },
  {
   "cell_type": "code",
   "execution_count": null,
   "id": "american-major",
   "metadata": {},
   "outputs": [],
   "source": [
    "%%time\n",
    "projection, errors = nearest_corr(laplace, 'newton', ERR_MAX , ITE_MAX)\n",
    "pd.DataFrame(errors).apply(np.log).plot()"
   ]
  },
  {
   "cell_type": "code",
   "execution_count": null,
   "id": "living-springfield",
   "metadata": {},
   "outputs": [],
   "source": [
    "%%time\n",
    "mat = gen_sym_psd(100, 14)\n",
    "projection, errors = nearest_corr(mat, 'newton', ERR_MAX, ITE_MAX)\n",
    "log_errs = pd.DataFrame(errors).apply(np.log)\n",
    "log_errs.plot()\n",
    "axis = (log_errs.shift() / log_errs).plot()\n",
    "axis.set_ylim(0, 2)"
   ]
  },
  {
   "cell_type": "code",
   "execution_count": null,
   "id": "graphic-frost",
   "metadata": {},
   "outputs": [],
   "source": [
    "%%timeit\n",
    "mat = gen_sym_psd(100)\n",
    "projection, errors = nearest_corr(mat, 'newton', ERR_MAX, ITE_MAX)"
   ]
  }
 ],
 "metadata": {
  "kernelspec": {
   "display_name": "Python 3",
   "language": "python",
   "name": "python3"
  },
  "language_info": {
   "codemirror_mode": {
    "name": "ipython",
    "version": 3
   },
   "file_extension": ".py",
   "mimetype": "text/x-python",
   "name": "python",
   "nbconvert_exporter": "python",
   "pygments_lexer": "ipython3",
   "version": "3.9.2"
  }
 },
 "nbformat": 4,
 "nbformat_minor": 5
}
